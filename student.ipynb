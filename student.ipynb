version https://git-lfs.github.com/spec/v1
oid sha256:dff6a90e4bcecd45c3e17daf6a5dbf552798ad371783a6e06a0fa0bf20ac8fc0
size 8531893
